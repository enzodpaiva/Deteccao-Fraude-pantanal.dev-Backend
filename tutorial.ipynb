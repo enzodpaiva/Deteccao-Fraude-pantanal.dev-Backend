{
 "cells": [
  {
   "cell_type": "code",
   "execution_count": null,
   "metadata": {},
   "outputs": [],
   "source": [
    "!pip install pandas \n",
    "!pip install requests\n",
    "!pip install scikit-learn==1.2.2\n",
    "!pip install bentoml"
   ]
  },
  {
   "cell_type": "code",
   "execution_count": 2,
   "metadata": {},
   "outputs": [],
   "source": [
    "import pandas as pd\n",
    "import time \n",
    "import requests\n",
    "import pickle\n",
    "import bentoml"
   ]
  },
  {
   "cell_type": "code",
   "execution_count": 4,
   "metadata": {},
   "outputs": [
    {
     "data": {
      "text/plain": [
       "Model(tag=\"fraud_detection_tree:d56x5vrgu6yhbjj7\", path=\"/home/eduardo/bentoml/models/fraud_detection_tree/d56x5vrgu6yhbjj7/\")"
      ]
     },
     "execution_count": 4,
     "metadata": {},
     "output_type": "execute_result"
    }
   ],
   "source": [
    "model = pickle.load(open('fraud_detection_tree.pkl','rb'))\n",
    "bentoml.sklearn.save_model(\"fraud_detection_tree\", model)"
   ]
  },
  {
   "cell_type": "code",
   "execution_count": 8,
   "metadata": {},
   "outputs": [
    {
     "name": "stdout",
     "output_type": "stream",
     "text": [
      "Building BentoML service \"credit_card_fraud_detection:p55ktfbgu6yhbjj7\" from build context \"/home/eduardo/Desktop/Pantanal_Dev/Onca_Pintada/Deteccao-Fraude-pantanal.dev-Backend/bentoml\".\n",
      "Packing model \"fraud_detection_tree:d56x5vrgu6yhbjj7\"\n",
      "Locking PyPI package versions.\n",
      "\n",
      "██████╗░███████╗███╗░░██╗████████╗░█████╗░███╗░░░███╗██╗░░░░░\n",
      "██╔══██╗██╔════╝████╗░██║╚══██╔══╝██╔══██╗████╗░████║██║░░░░░\n",
      "██████╦╝█████╗░░██╔██╗██║░░░██║░░░██║░░██║██╔████╔██║██║░░░░░\n",
      "██╔══██╗██╔══╝░░██║╚████║░░░██║░░░██║░░██║██║╚██╔╝██║██║░░░░░\n",
      "██████╦╝███████╗██║░╚███║░░░██║░░░╚█████╔╝██║░╚═╝░██║███████╗\n",
      "╚═════╝░╚══════╝╚═╝░░╚══╝░░░╚═╝░░░░╚════╝░╚═╝░░░░░╚═╝╚══════╝\n",
      "\n",
      "\u001b[32mSuccessfully built Bento(tag=\"credit_card_fraud_detection:p55ktfbgu6yhbjj7\").\u001b[0m\n",
      "\u001b[34m\n",
      "Possible next steps:\n",
      "\n",
      " * Containerize your Bento with `bentoml containerize`:\n",
      "    $ bentoml containerize credit_card_fraud_detection:p55ktfbgu6yhbjj7\u001b[0m\n",
      "\u001b[34m\n",
      " * Push to BentoCloud with `bentoml push`:\n",
      "    $ bentoml push credit_card_fraud_detection:p55ktfbgu6yhbjj7\u001b[0m\n"
     ]
    }
   ],
   "source": [
    "!bentoml build"
   ]
  },
  {
   "cell_type": "markdown",
   "metadata": {},
   "source": [
    "### After running the above command  you should see in the end of the output something like this:\n",
    "\"\n",
    "* Containerize your Bento with `bentoml containerize`:\n",
    "    $ bentoml containerize credit_card_fraud_detection:p55ktfbgu6yhbjj7\"\n",
    "\n",
    "### Then run the above command to build the docker image but replace the name of the image with the one you got from the previous command:"
   ]
  },
  {
   "cell_type": "code",
   "execution_count": null,
   "metadata": {},
   "outputs": [],
   "source": [
    "!bentoml containerize credit_card_fraud_detection:YOUR_ID"
   ]
  },
  {
   "cell_type": "markdown",
   "metadata": {},
   "source": [
    "### After running the above command you should see in the end of the output the command for yout to run the docker image created, just copy and paste it in your terminal and run it.\n"
   ]
  },
  {
   "cell_type": "code",
   "execution_count": null,
   "metadata": {},
   "outputs": [],
   "source": [
    "!docker run -it --rm -p 3000:3000 credit_card_fraud_detection:p55ktfbgu6yhbjj7 serve"
   ]
  },
  {
   "cell_type": "markdown",
   "metadata": {},
   "source": [
    "# TESTING THE API"
   ]
  },
  {
   "cell_type": "code",
   "execution_count": 17,
   "metadata": {},
   "outputs": [],
   "source": [
    "df = pd.read_csv(\"YOUR_PATH_TO_DATASET/creditcard.csv\")"
   ]
  },
  {
   "cell_type": "code",
   "execution_count": 18,
   "metadata": {},
   "outputs": [],
   "source": [
    "X = df.drop('Class', axis=1).to_numpy()\n",
    "y = df[\"Class\"].to_numpy()"
   ]
  },
  {
   "cell_type": "code",
   "execution_count": 37,
   "metadata": {},
   "outputs": [
    {
     "name": "stdout",
     "output_type": "stream",
     "text": [
      "Tempo de execução:  0.010002374649047852\n"
     ]
    }
   ],
   "source": [
    "start = time.time()\n",
    "result = requests.post(\n",
    "   \"http://localhost:3000/classify\",\n",
    "   headers={\"content-type\": \"application/json\"},\n",
    "   data=str([list(X[10])]),\n",
    ")\n",
    "end = time.time()\n",
    "print('Tempo de execução: ', end - start)"
   ]
  },
  {
   "cell_type": "code",
   "execution_count": 38,
   "metadata": {},
   "outputs": [
    {
     "name": "stdout",
     "output_type": "stream",
     "text": [
      "Resultado:  [False]\n"
     ]
    }
   ],
   "source": [
    "print('Resultado: ', result.json())"
   ]
  },
  {
   "cell_type": "code",
   "execution_count": 2,
   "metadata": {},
   "outputs": [],
   "source": [
    "model = xgb.XGBClassifier()\n",
    "model.load_model(\"xgb_model.json\")"
   ]
  },
  {
   "cell_type": "code",
   "execution_count": 1,
   "metadata": {},
   "outputs": [],
   "source": [
    "import xgboost as xgb\n",
    "\n",
    "\n",
    "\n"
   ]
  },
  {
   "cell_type": "code",
   "execution_count": 3,
   "metadata": {},
   "outputs": [],
   "source": [
    "import bentoml\n",
    "bento_model = bentoml.xgboost.save_model(\"fraud_detection_xgb\", model)"
   ]
  },
  {
   "cell_type": "code",
   "execution_count": null,
   "metadata": {},
   "outputs": [],
   "source": [
    "import bentoml\n",
    "from bentoml.io import NumpyNdarray\n",
    "import numpy as np\n",
    "\n",
    "# create a runner from the saved Booster\n",
    "runner = bentoml.xgboost.get(\"booster_tree:latest\").to_runner()\n",
    "\n",
    "# create a BentoML service\n",
    "svc = bentoml.Service(\"cancer_classifier\", runners=[runner])\n",
    "\n",
    "# define a new endpoint on the BentoML service\n",
    "@svc.api(input=NumpyNdarray(), output=NumpyNdarray())\n",
    "async def classify_tumor(input: np.ndarray) -> np.ndarray:\n",
    "    # use 'runner.predict.run(input)' instead of 'booster.predict'\n",
    "    res = await runner.predict.async_run(input)\n",
    "    return res"
   ]
  },
  {
   "cell_type": "code",
   "execution_count": null,
   "metadata": {},
   "outputs": [],
   "source": [
    "\n",
    "# muda para a escala log10. 0.00001 serve para transacoes com 0 de custo nao causarem erro na conversao\n",
    "df[\"log10Amount\"] = np.log10(df[\"Amount\"]+0.00001)\n",
    "print(df[\"log10Amount\"])"
   ]
  },
  {
   "cell_type": "code",
   "execution_count": null,
   "metadata": {},
   "outputs": [],
   "source": [
    "['log10Amount', 'V1', 'V2', 'V3', 'V4', 'V5', 'V6', 'V7', 'V8', 'V9',\n",
    "       'V10', 'V11', 'V12', 'V14', 'V16', 'V17', 'V18', 'V19', 'V20', 'V21',\n",
    "       'Class'],"
   ]
  }
 ],
 "metadata": {
  "kernelspec": {
   "display_name": "visgpt",
   "language": "python",
   "name": "python3"
  },
  "language_info": {
   "codemirror_mode": {
    "name": "ipython",
    "version": 3
   },
   "file_extension": ".py",
   "mimetype": "text/x-python",
   "name": "python",
   "nbconvert_exporter": "python",
   "pygments_lexer": "ipython3",
   "version": "3.8.16"
  },
  "orig_nbformat": 4
 },
 "nbformat": 4,
 "nbformat_minor": 2
}
