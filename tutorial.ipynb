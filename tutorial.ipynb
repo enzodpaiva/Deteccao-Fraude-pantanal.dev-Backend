{
 "cells": [
  {
   "cell_type": "code",
   "execution_count": null,
   "metadata": {},
   "outputs": [],
   "source": [
    "!pip install pandas \n",
    "!pip install requests\n",
    "!pip install sklearn\n",
    "!pip install bentoml"
   ]
  },
  {
   "cell_type": "code",
   "execution_count": 2,
   "metadata": {},
   "outputs": [],
   "source": [
    "import pandas as pd\n",
    "import time \n",
    "import requests\n",
    "import pickle\n",
    "import bentoml"
   ]
  },
  {
   "cell_type": "code",
   "execution_count": 4,
   "metadata": {},
   "outputs": [
    {
     "data": {
      "text/plain": [
       "Model(tag=\"fraud_detection_tree:d56x5vrgu6yhbjj7\", path=\"/home/eduardo/bentoml/models/fraud_detection_tree/d56x5vrgu6yhbjj7/\")"
      ]
     },
     "execution_count": 4,
     "metadata": {},
     "output_type": "execute_result"
    }
   ],
   "source": [
    "model = pickle.load(open('fraud_detection_tree.pkl','rb'))\n",
    "bentoml.sklearn.save_model(\"fraud_detection_tree\", model)"
   ]
  },
  {
   "cell_type": "code",
   "execution_count": 8,
   "metadata": {},
   "outputs": [
    {
     "name": "stdout",
     "output_type": "stream",
     "text": [
      "Building BentoML service \"credit_card_fraud_detection:p55ktfbgu6yhbjj7\" from build context \"/home/eduardo/Desktop/Pantanal_Dev/Onca_Pintada/Deteccao-Fraude-pantanal.dev-Backend/bentoml\".\n",
      "Packing model \"fraud_detection_tree:d56x5vrgu6yhbjj7\"\n",
      "Locking PyPI package versions.\n",
      "\n",
      "██████╗░███████╗███╗░░██╗████████╗░█████╗░███╗░░░███╗██╗░░░░░\n",
      "██╔══██╗██╔════╝████╗░██║╚══██╔══╝██╔══██╗████╗░████║██║░░░░░\n",
      "██████╦╝█████╗░░██╔██╗██║░░░██║░░░██║░░██║██╔████╔██║██║░░░░░\n",
      "██╔══██╗██╔══╝░░██║╚████║░░░██║░░░██║░░██║██║╚██╔╝██║██║░░░░░\n",
      "██████╦╝███████╗██║░╚███║░░░██║░░░╚█████╔╝██║░╚═╝░██║███████╗\n",
      "╚═════╝░╚══════╝╚═╝░░╚══╝░░░╚═╝░░░░╚════╝░╚═╝░░░░░╚═╝╚══════╝\n",
      "\n",
      "\u001b[32mSuccessfully built Bento(tag=\"credit_card_fraud_detection:p55ktfbgu6yhbjj7\").\u001b[0m\n",
      "\u001b[34m\n",
      "Possible next steps:\n",
      "\n",
      " * Containerize your Bento with `bentoml containerize`:\n",
      "    $ bentoml containerize credit_card_fraud_detection:p55ktfbgu6yhbjj7\u001b[0m\n",
      "\u001b[34m\n",
      " * Push to BentoCloud with `bentoml push`:\n",
      "    $ bentoml push credit_card_fraud_detection:p55ktfbgu6yhbjj7\u001b[0m\n"
     ]
    }
   ],
   "source": [
    "!bentoml build"
   ]
  },
  {
   "cell_type": "markdown",
   "metadata": {},
   "source": [
    "### After running the above command  you should see in the end of the output something like this:\n",
    "\"\n",
    "* Containerize your Bento with `bentoml containerize`:\n",
    "    $ bentoml containerize credit_card_fraud_detection:p55ktfbgu6yhbjj7\"\n",
    "\n",
    "### Then run the above command to build the docker image but replace the name of the image with the one you got from the previous command:"
   ]
  },
  {
   "cell_type": "code",
   "execution_count": null,
   "metadata": {},
   "outputs": [],
   "source": [
    "!bentoml containerize credit_card_fraud_detection:YOUR_ID"
   ]
  },
  {
   "cell_type": "markdown",
   "metadata": {},
   "source": [
    "### After running the above command you should see in the end of the output the command for yout to run the docker image created, just copy and paste it in your terminal and run it.\n"
   ]
  },
  {
   "cell_type": "code",
   "execution_count": null,
   "metadata": {},
   "outputs": [],
   "source": [
    "!docker run -it --rm -p 3000:3000 credit_card_fraud_detection:p55ktfbgu6yhbjj7 serve"
   ]
  },
  {
   "cell_type": "markdown",
   "metadata": {},
   "source": [
    "# TESTING THE API"
   ]
  },
  {
   "cell_type": "code",
   "execution_count": 17,
   "metadata": {},
   "outputs": [],
   "source": [
    "df = pd.read_csv(\"YOUR_PATH_TO_DATASET/creditcard.csv\")"
   ]
  },
  {
   "cell_type": "code",
   "execution_count": 18,
   "metadata": {},
   "outputs": [],
   "source": [
    "X = df.drop('Class', axis=1).to_numpy()\n",
    "y = df[\"Class\"].to_numpy()"
   ]
  },
  {
   "cell_type": "code",
   "execution_count": 37,
   "metadata": {},
   "outputs": [
    {
     "name": "stdout",
     "output_type": "stream",
     "text": [
      "Tempo de execução:  0.010002374649047852\n"
     ]
    }
   ],
   "source": [
    "start = time.time()\n",
    "result = requests.post(\n",
    "   \"http://localhost:3000/classify\",\n",
    "   headers={\"content-type\": \"application/json\"},\n",
    "   data=str([list(X[10])]),\n",
    ")\n",
    "end = time.time()\n",
    "print('Tempo de execução: ', end - start)"
   ]
  },
  {
   "cell_type": "code",
   "execution_count": 38,
   "metadata": {},
   "outputs": [
    {
     "name": "stdout",
     "output_type": "stream",
     "text": [
      "Resultado:  [False]\n"
     ]
    }
   ],
   "source": [
    "print('Resultado: ', result.json())"
   ]
  }
 ],
 "metadata": {
  "kernelspec": {
   "display_name": "visgpt",
   "language": "python",
   "name": "python3"
  },
  "language_info": {
   "codemirror_mode": {
    "name": "ipython",
    "version": 3
   },
   "file_extension": ".py",
   "mimetype": "text/x-python",
   "name": "python",
   "nbconvert_exporter": "python",
   "pygments_lexer": "ipython3",
   "version": "3.8.16"
  },
  "orig_nbformat": 4
 },
 "nbformat": 4,
 "nbformat_minor": 2
}
