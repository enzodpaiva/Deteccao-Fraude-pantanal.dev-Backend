{
 "cells": [
  {
   "cell_type": "code",
   "execution_count": 2,
   "metadata": {},
   "outputs": [
    {
     "name": "stdout",
     "output_type": "stream",
     "text": [
      "Defaulting to user installation because normal site-packages is not writeable\n",
      "Requirement already satisfied: pandas in /home/enzo-linux/.local/lib/python3.10/site-packages (2.0.3)\n",
      "Requirement already satisfied: python-dateutil>=2.8.2 in /home/enzo-linux/.local/lib/python3.10/site-packages (from pandas) (2.8.2)\n",
      "Requirement already satisfied: pytz>=2020.1 in /usr/lib/python3/dist-packages (from pandas) (2022.1)\n",
      "Requirement already satisfied: tzdata>=2022.1 in /home/enzo-linux/.local/lib/python3.10/site-packages (from pandas) (2023.3)\n",
      "Requirement already satisfied: numpy>=1.21.0 in /usr/local/lib/python3.10/dist-packages (from pandas) (1.25.1)\n",
      "Requirement already satisfied: six>=1.5 in /usr/lib/python3/dist-packages (from python-dateutil>=2.8.2->pandas) (1.16.0)\n",
      "\u001b[33mDEPRECATION: distro-info 1.1build1 has a non-standard version number. pip 23.3 will enforce this behaviour change. A possible replacement is to upgrade to a newer version of distro-info or contact the author to suggest that they release a version with a conforming version number. Discussion can be found at https://github.com/pypa/pip/issues/12063\u001b[0m\u001b[33m\n",
      "\u001b[0m\u001b[33mDEPRECATION: python-debian 0.1.43ubuntu1 has a non-standard version number. pip 23.3 will enforce this behaviour change. A possible replacement is to upgrade to a newer version of python-debian or contact the author to suggest that they release a version with a conforming version number. Discussion can be found at https://github.com/pypa/pip/issues/12063\u001b[0m\u001b[33m\n",
      "\u001b[0mDefaulting to user installation because normal site-packages is not writeable\n",
      "Requirement already satisfied: requests in /usr/lib/python3/dist-packages (2.25.1)\n",
      "\u001b[33mDEPRECATION: distro-info 1.1build1 has a non-standard version number. pip 23.3 will enforce this behaviour change. A possible replacement is to upgrade to a newer version of distro-info or contact the author to suggest that they release a version with a conforming version number. Discussion can be found at https://github.com/pypa/pip/issues/12063\u001b[0m\u001b[33m\n",
      "\u001b[0m\u001b[33mDEPRECATION: python-debian 0.1.43ubuntu1 has a non-standard version number. pip 23.3 will enforce this behaviour change. A possible replacement is to upgrade to a newer version of python-debian or contact the author to suggest that they release a version with a conforming version number. Discussion can be found at https://github.com/pypa/pip/issues/12063\u001b[0m\u001b[33m\n",
      "\u001b[0mDefaulting to user installation because normal site-packages is not writeable\n",
      "Requirement already satisfied: sklearn in /home/enzo-linux/.local/lib/python3.10/site-packages (0.0.post7)\n",
      "\u001b[33mDEPRECATION: distro-info 1.1build1 has a non-standard version number. pip 23.3 will enforce this behaviour change. A possible replacement is to upgrade to a newer version of distro-info or contact the author to suggest that they release a version with a conforming version number. Discussion can be found at https://github.com/pypa/pip/issues/12063\u001b[0m\u001b[33m\n",
      "\u001b[0m\u001b[33mDEPRECATION: python-debian 0.1.43ubuntu1 has a non-standard version number. pip 23.3 will enforce this behaviour change. A possible replacement is to upgrade to a newer version of python-debian or contact the author to suggest that they release a version with a conforming version number. Discussion can be found at https://github.com/pypa/pip/issues/12063\u001b[0m\u001b[33m\n",
      "\u001b[0mDefaulting to user installation because normal site-packages is not writeable\n",
      "Requirement already satisfied: bentoml in /home/enzo-linux/.local/lib/python3.10/site-packages (1.1.0)\n",
      "Requirement already satisfied: aiohttp in /home/enzo-linux/.local/lib/python3.10/site-packages (from bentoml) (3.8.5)\n",
      "Requirement already satisfied: attrs>=21.1.0 in /home/enzo-linux/.local/lib/python3.10/site-packages (from bentoml) (23.1.0)\n",
      "Requirement already satisfied: cattrs>=22.1.0 in /home/enzo-linux/.local/lib/python3.10/site-packages (from bentoml) (23.1.2)\n",
      "Requirement already satisfied: circus!=0.17.2,>=0.17.0 in /home/enzo-linux/.local/lib/python3.10/site-packages (from bentoml) (0.18.0)\n",
      "Requirement already satisfied: click-option-group in /home/enzo-linux/.local/lib/python3.10/site-packages (from bentoml) (0.5.6)\n",
      "Requirement already satisfied: click>=7.0 in /usr/lib/python3/dist-packages (from bentoml) (8.0.3)\n",
      "Requirement already satisfied: cloudpickle in /home/enzo-linux/.local/lib/python3.10/site-packages (from bentoml) (2.2.1)\n",
      "Requirement already satisfied: deepmerge in /home/enzo-linux/.local/lib/python3.10/site-packages (from bentoml) (1.1.0)\n",
      "Requirement already satisfied: fs in /home/enzo-linux/.local/lib/python3.10/site-packages (from bentoml) (2.4.16)\n",
      "Requirement already satisfied: jinja2>=3.0.1 in /home/enzo-linux/.local/lib/python3.10/site-packages (from bentoml) (3.1.2)\n",
      "Requirement already satisfied: numpy in /usr/local/lib/python3.10/dist-packages (from bentoml) (1.25.1)\n",
      "Requirement already satisfied: opentelemetry-api==1.18.0 in /home/enzo-linux/.local/lib/python3.10/site-packages (from bentoml) (1.18.0)\n",
      "Requirement already satisfied: opentelemetry-instrumentation-aiohttp-client==0.39b0 in /home/enzo-linux/.local/lib/python3.10/site-packages (from bentoml) (0.39b0)\n",
      "Requirement already satisfied: opentelemetry-instrumentation-asgi==0.39b0 in /home/enzo-linux/.local/lib/python3.10/site-packages (from bentoml) (0.39b0)\n",
      "Requirement already satisfied: opentelemetry-instrumentation==0.39b0 in /home/enzo-linux/.local/lib/python3.10/site-packages (from bentoml) (0.39b0)\n",
      "Requirement already satisfied: opentelemetry-sdk==1.18.0 in /home/enzo-linux/.local/lib/python3.10/site-packages (from bentoml) (1.18.0)\n",
      "Requirement already satisfied: opentelemetry-semantic-conventions==0.39b0 in /home/enzo-linux/.local/lib/python3.10/site-packages (from bentoml) (0.39b0)\n",
      "Requirement already satisfied: opentelemetry-util-http==0.39b0 in /home/enzo-linux/.local/lib/python3.10/site-packages (from bentoml) (0.39b0)\n",
      "Requirement already satisfied: packaging>=22.0 in /home/enzo-linux/.local/lib/python3.10/site-packages (from bentoml) (23.1)\n",
      "Requirement already satisfied: pathspec in /home/enzo-linux/.local/lib/python3.10/site-packages (from bentoml) (0.11.1)\n",
      "Requirement already satisfied: pip-requirements-parser>=31.2.0 in /home/enzo-linux/.local/lib/python3.10/site-packages (from bentoml) (32.0.1)\n",
      "Requirement already satisfied: pip-tools>=6.6.2 in /home/enzo-linux/.local/lib/python3.10/site-packages (from bentoml) (7.1.0)\n",
      "Requirement already satisfied: prometheus-client>=0.10.0 in /home/enzo-linux/.local/lib/python3.10/site-packages (from bentoml) (0.17.1)\n",
      "Requirement already satisfied: psutil in /home/enzo-linux/.local/lib/python3.10/site-packages (from bentoml) (5.9.5)\n",
      "Requirement already satisfied: pynvml<12 in /home/enzo-linux/.local/lib/python3.10/site-packages (from bentoml) (11.5.0)\n",
      "Requirement already satisfied: python-dateutil in /home/enzo-linux/.local/lib/python3.10/site-packages (from bentoml) (2.8.2)\n",
      "Requirement already satisfied: python-json-logger in /home/enzo-linux/.local/lib/python3.10/site-packages (from bentoml) (2.0.7)\n",
      "Requirement already satisfied: python-multipart in /home/enzo-linux/.local/lib/python3.10/site-packages (from bentoml) (0.0.6)\n",
      "Requirement already satisfied: pyyaml>=5.0 in /usr/lib/python3/dist-packages (from bentoml) (5.4.1)\n",
      "Requirement already satisfied: requests in /usr/lib/python3/dist-packages (from bentoml) (2.25.1)\n",
      "Requirement already satisfied: rich>=11.2.0 in /home/enzo-linux/.local/lib/python3.10/site-packages (from bentoml) (13.4.2)\n",
      "Requirement already satisfied: schema in /home/enzo-linux/.local/lib/python3.10/site-packages (from bentoml) (0.7.5)\n",
      "Requirement already satisfied: simple-di>=0.1.4 in /home/enzo-linux/.local/lib/python3.10/site-packages (from bentoml) (0.1.5)\n",
      "Requirement already satisfied: starlette<0.29,>=0.13.5 in /home/enzo-linux/.local/lib/python3.10/site-packages (from bentoml) (0.28.0)\n",
      "Requirement already satisfied: uvicorn in /home/enzo-linux/.local/lib/python3.10/site-packages (from bentoml) (0.23.1)\n",
      "Requirement already satisfied: watchfiles>=0.15.0 in /home/enzo-linux/.local/lib/python3.10/site-packages (from bentoml) (0.19.0)\n",
      "Requirement already satisfied: deprecated>=1.2.6 in /home/enzo-linux/.local/lib/python3.10/site-packages (from opentelemetry-api==1.18.0->bentoml) (1.2.14)\n",
      "Requirement already satisfied: importlib-metadata~=6.0.0 in /home/enzo-linux/.local/lib/python3.10/site-packages (from opentelemetry-api==1.18.0->bentoml) (6.0.1)\n",
      "Requirement already satisfied: setuptools>=16.0 in /usr/lib/python3/dist-packages (from opentelemetry-api==1.18.0->bentoml) (59.6.0)\n",
      "Requirement already satisfied: wrapt<2.0.0,>=1.0.0 in /home/enzo-linux/.local/lib/python3.10/site-packages (from opentelemetry-instrumentation==0.39b0->bentoml) (1.15.0)\n",
      "Requirement already satisfied: asgiref~=3.0 in /home/enzo-linux/.local/lib/python3.10/site-packages (from opentelemetry-instrumentation-asgi==0.39b0->bentoml) (3.7.2)\n",
      "Requirement already satisfied: typing-extensions>=3.7.4 in /home/enzo-linux/.local/lib/python3.10/site-packages (from opentelemetry-sdk==1.18.0->bentoml) (4.7.1)\n",
      "Requirement already satisfied: exceptiongroup in /home/enzo-linux/.local/lib/python3.10/site-packages (from cattrs>=22.1.0->bentoml) (1.1.2)\n",
      "Requirement already satisfied: pyzmq>=17.0 in /home/enzo-linux/.local/lib/python3.10/site-packages (from circus!=0.17.2,>=0.17.0->bentoml) (25.1.0)\n",
      "Requirement already satisfied: tornado>=5.0.2 in /home/enzo-linux/.local/lib/python3.10/site-packages (from circus!=0.17.2,>=0.17.0->bentoml) (6.3.2)\n",
      "Requirement already satisfied: MarkupSafe>=2.0 in /usr/lib/python3/dist-packages (from jinja2>=3.0.1->bentoml) (2.0.1)\n",
      "Requirement already satisfied: pyparsing in /usr/lib/python3/dist-packages (from pip-requirements-parser>=31.2.0->bentoml) (2.4.7)\n",
      "Requirement already satisfied: build in /home/enzo-linux/.local/lib/python3.10/site-packages (from pip-tools>=6.6.2->bentoml) (0.10.0)\n",
      "Requirement already satisfied: pip>=22.2 in /home/enzo-linux/.local/lib/python3.10/site-packages (from pip-tools>=6.6.2->bentoml) (23.2.1)\n",
      "Requirement already satisfied: wheel in /usr/lib/python3/dist-packages (from pip-tools>=6.6.2->bentoml) (0.37.1)\n",
      "Requirement already satisfied: tomli in /home/enzo-linux/.local/lib/python3.10/site-packages (from pip-tools>=6.6.2->bentoml) (2.0.1)\n",
      "Requirement already satisfied: markdown-it-py>=2.2.0 in /home/enzo-linux/.local/lib/python3.10/site-packages (from rich>=11.2.0->bentoml) (3.0.0)\n",
      "Requirement already satisfied: pygments<3.0.0,>=2.13.0 in /home/enzo-linux/.local/lib/python3.10/site-packages (from rich>=11.2.0->bentoml) (2.15.1)\n",
      "Requirement already satisfied: anyio<5,>=3.4.0 in /home/enzo-linux/.local/lib/python3.10/site-packages (from starlette<0.29,>=0.13.5->bentoml) (3.7.1)\n",
      "Requirement already satisfied: charset-normalizer<4.0,>=2.0 in /home/enzo-linux/.local/lib/python3.10/site-packages (from aiohttp->bentoml) (3.2.0)\n",
      "Requirement already satisfied: multidict<7.0,>=4.5 in /home/enzo-linux/.local/lib/python3.10/site-packages (from aiohttp->bentoml) (6.0.4)\n",
      "Requirement already satisfied: async-timeout<5.0,>=4.0.0a3 in /home/enzo-linux/.local/lib/python3.10/site-packages (from aiohttp->bentoml) (4.0.2)\n",
      "Requirement already satisfied: yarl<2.0,>=1.0 in /home/enzo-linux/.local/lib/python3.10/site-packages (from aiohttp->bentoml) (1.9.2)\n",
      "Requirement already satisfied: frozenlist>=1.1.1 in /home/enzo-linux/.local/lib/python3.10/site-packages (from aiohttp->bentoml) (1.4.0)\n",
      "Requirement already satisfied: aiosignal>=1.1.2 in /home/enzo-linux/.local/lib/python3.10/site-packages (from aiohttp->bentoml) (1.3.1)\n",
      "Requirement already satisfied: appdirs~=1.4.3 in /home/enzo-linux/.local/lib/python3.10/site-packages (from fs->bentoml) (1.4.4)\n",
      "Requirement already satisfied: six~=1.10 in /usr/lib/python3/dist-packages (from fs->bentoml) (1.16.0)\n",
      "Requirement already satisfied: contextlib2>=0.5.5 in /home/enzo-linux/.local/lib/python3.10/site-packages (from schema->bentoml) (21.6.0)\n",
      "Requirement already satisfied: h11>=0.8 in /home/enzo-linux/.local/lib/python3.10/site-packages (from uvicorn->bentoml) (0.14.0)\n",
      "Requirement already satisfied: idna>=2.8 in /usr/lib/python3/dist-packages (from anyio<5,>=3.4.0->starlette<0.29,>=0.13.5->bentoml) (3.3)\n",
      "Requirement already satisfied: sniffio>=1.1 in /home/enzo-linux/.local/lib/python3.10/site-packages (from anyio<5,>=3.4.0->starlette<0.29,>=0.13.5->bentoml) (1.3.0)\n",
      "Requirement already satisfied: zipp>=0.5 in /usr/lib/python3/dist-packages (from importlib-metadata~=6.0.0->opentelemetry-api==1.18.0->bentoml) (1.0.0)\n",
      "Requirement already satisfied: mdurl~=0.1 in /home/enzo-linux/.local/lib/python3.10/site-packages (from markdown-it-py>=2.2.0->rich>=11.2.0->bentoml) (0.1.2)\n",
      "Requirement already satisfied: pyproject_hooks in /home/enzo-linux/.local/lib/python3.10/site-packages (from build->pip-tools>=6.6.2->bentoml) (1.0.0)\n",
      "\u001b[33mDEPRECATION: distro-info 1.1build1 has a non-standard version number. pip 23.3 will enforce this behaviour change. A possible replacement is to upgrade to a newer version of distro-info or contact the author to suggest that they release a version with a conforming version number. Discussion can be found at https://github.com/pypa/pip/issues/12063\u001b[0m\u001b[33m\n",
      "\u001b[0m\u001b[33mDEPRECATION: python-debian 0.1.43ubuntu1 has a non-standard version number. pip 23.3 will enforce this behaviour change. A possible replacement is to upgrade to a newer version of python-debian or contact the author to suggest that they release a version with a conforming version number. Discussion can be found at https://github.com/pypa/pip/issues/12063\u001b[0m\u001b[33m\n",
      "\u001b[0m"
     ]
    }
   ],
   "source": [
    "!pip install pandas \n",
    "!pip install requests\n",
    "!pip install sklearn\n",
    "!pip install bentoml"
   ]
  },
  {
   "cell_type": "code",
   "execution_count": 3,
   "metadata": {},
   "outputs": [],
   "source": [
    "import pandas as pd\n",
    "import time \n",
    "import requests\n",
    "import pickle\n",
    "import bentoml\n",
    "import socket"
   ]
  },
  {
   "cell_type": "code",
   "execution_count": 4,
   "metadata": {},
   "outputs": [
    {
     "data": {
      "text/plain": [
       "Model(tag=\"fraud_detection_tree:ekixbrbmfw44kw4g\", path=\"/home/enzo-linux/bentoml/models/fraud_detection_tree/ekixbrbmfw44kw4g/\")"
      ]
     },
     "execution_count": 4,
     "metadata": {},
     "output_type": "execute_result"
    }
   ],
   "source": [
    "model = pickle.load(open('fraud_detection_tree.pkl','rb'))\n",
    "bentoml.sklearn.save_model(\"fraud_detection_tree\", model)"
   ]
  },
  {
   "cell_type": "code",
   "execution_count": 5,
   "metadata": {},
   "outputs": [
    {
     "name": "stdout",
     "output_type": "stream",
     "text": [
      "Locking PyPI package versions.\n",
      "\n",
      "██████╗ ███████╗███╗   ██╗████████╗ ██████╗ ███╗   ███╗██╗\n",
      "██╔══██╗██╔════╝████╗  ██║╚══██╔══╝██╔═══██╗████╗ ████║██║\n",
      "██████╔╝█████╗  ██╔██╗ ██║   ██║   ██║   ██║██╔████╔██║██║\n",
      "██╔══██╗██╔══╝  ██║╚██╗██║   ██║   ██║   ██║██║╚██╔╝██║██║\n",
      "██████╔╝███████╗██║ ╚████║   ██║   ╚██████╔╝██║ ╚═╝ ██║███████╗\n",
      "╚═════╝ ╚══════╝╚═╝  ╚═══╝   ╚═╝    ╚═════╝ ╚═╝     ╚═╝╚══════╝\n",
      "\n",
      "\u001b[32mSuccessfully built Bento(tag=\"credit_card_fraud_detection:evwv7mbmfw44kw4g\").\u001b[0m\n",
      "\u001b[34m\n",
      "Possible next steps:\n",
      "\n",
      " * Containerize your Bento with `bentoml containerize`:\n",
      "    $ bentoml containerize credit_card_fraud_detection:evwv7mbmfw44kw4g  [or bentoml build --containerize]\u001b[0m\n",
      "\u001b[34m\n",
      " * Push to BentoCloud with `bentoml push`:\n",
      "    $ bentoml push credit_card_fraud_detection:evwv7mbmfw44kw4g [or bentoml build --push]\u001b[0m\n"
     ]
    }
   ],
   "source": [
    "!bentoml build"
   ]
  },
  {
   "cell_type": "markdown",
   "metadata": {},
   "source": [
    "### After running the above command  you should see in the end of the output something like this:\n",
    "\"\n",
    "* Containerize your Bento with `bentoml containerize`:\n",
    "    $ bentoml containerize credit_card_fraud_detection:p55ktfbgu6yhbjj7\"\n",
    "\n",
    "### Then run the above command to build the docker image but replace the name of the image with the one you got from the previous command:"
   ]
  },
  {
   "cell_type": "code",
   "execution_count": null,
   "metadata": {},
   "outputs": [],
   "source": [
    "!bentoml containerize credit_card_fraud_detection:YOUR_ID"
   ]
  },
  {
   "cell_type": "markdown",
   "metadata": {},
   "source": [
    "### After running the above command you should see in the end of the output the command for yout to run the docker image created, just copy and paste it in your terminal and run it.\n"
   ]
  },
  {
   "cell_type": "code",
   "execution_count": null,
   "metadata": {},
   "outputs": [],
   "source": [
    "!docker run -it --rm -p 3000:3000 credit_card_fraud_detection:p55ktfbgu6yhbjj7 serve"
   ]
  },
  {
   "cell_type": "markdown",
   "metadata": {},
   "source": [
    "# TESTING THE API"
   ]
  },
  {
   "cell_type": "code",
   "execution_count": 17,
   "metadata": {},
   "outputs": [],
   "source": [
    "df = pd.read_csv(\"YOUR_PATH_TO_DATASET/creditcard.csv\")"
   ]
  },
  {
   "cell_type": "code",
   "execution_count": 18,
   "metadata": {},
   "outputs": [],
   "source": [
    "X = df.drop('Class', axis=1).to_numpy()\n",
    "y = df[\"Class\"].to_numpy()"
   ]
  },
  {
   "cell_type": "code",
   "execution_count": 37,
   "metadata": {},
   "outputs": [
    {
     "name": "stdout",
     "output_type": "stream",
     "text": [
      "Tempo de execução:  0.010002374649047852\n"
     ]
    }
   ],
   "source": [
    "start = time.time()\n",
    "result = requests.post(\n",
    "   \"http://localhost:3000/classify\",\n",
    "   headers={\"content-type\": \"application/json\"},\n",
    "   data=str([list(X[10])]),\n",
    ")\n",
    "end = time.time()\n",
    "print('Tempo de execução: ', end - start)"
   ]
  },
  {
   "cell_type": "code",
   "execution_count": 38,
   "metadata": {},
   "outputs": [
    {
     "name": "stdout",
     "output_type": "stream",
     "text": [
      "Resultado:  [False]\n"
     ]
    }
   ],
   "source": [
    "print('Resultado: ', result.json())"
   ]
  }
 ],
 "metadata": {
  "kernelspec": {
   "display_name": "visgpt",
   "language": "python",
   "name": "python3"
  },
  "language_info": {
   "codemirror_mode": {
    "name": "ipython",
    "version": 3
   },
   "file_extension": ".py",
   "mimetype": "text/x-python",
   "name": "python",
   "nbconvert_exporter": "python",
   "pygments_lexer": "ipython3",
   "version": "3.10.6"
  },
  "orig_nbformat": 4
 },
 "nbformat": 4,
 "nbformat_minor": 2
}
